{
  "nbformat": 4,
  "nbformat_minor": 0,
  "metadata": {
    "colab": {
      "provenance": [],
      "gpuType": "T4"
    },
    "kernelspec": {
      "name": "python3",
      "display_name": "Python 3"
    },
    "language_info": {
      "name": "python"
    },
    "accelerator": "GPU"
  },
  "cells": [
    {
      "cell_type": "markdown",
      "metadata": {
        "id": "HZhnr-DZ5XKG"
      },
      "source": [
        "### Explainability using Integrated Gradients for Natural Language Processing\n",
        "(An amazing approach suggested in the paper https://arxiv.org/pdf/1703.01365.pdf,\n",
        "allows us to attribute importance to each feature input,\n",
        "regardless of model architecture)\n",
        "\n",
        "---\n",
        "\n"
      ]
    },
    {
      "cell_type": "code",
      "metadata": {
        "id": "aCYhXl6S5YAG"
      },
      "source": [
        "# Import all the libraries\n",
        "import os\n",
        "import tensorflow_datasets as tfds\n",
        "import tensorflow as tf\n",
        "from tensorflow.keras.layers import TextVectorization\n",
        "import seaborn as sns\n",
        "import matplotlib.pyplot as plt\n",
        "import matplotlib as mpl\n",
        "from matplotlib.colors import Normalize, rgb2hex\n",
        "import pandas as pd\n",
        "from IPython.display import HTML\n",
        "\n",
        "\n",
        "pd.set_option('display.max_colwidth', 150)\n"
      ],
      "execution_count": 38,
      "outputs": []
    },
    {
      "cell_type": "code",
      "metadata": {
        "id": "dhRBWj1r5i_b"
      },
      "source": [
        "# download the ag_news_subset dataset; https://www.tensorflow.org/datasets/catalog/ag_news_subset\n",
        "# split them into train/val/test, train:val = 90:10\n",
        "(raw_train_ds, raw_val_ds, raw_test_ds), info = tfds.load('ag_news_subset',\n",
        "                                                          split=['train[:90%]',\n",
        "                                                                 'train[-90%:]',\n",
        "                                                                 'test'],\n",
        "                                                          with_info=True)\n"
      ],
      "execution_count": 39,
      "outputs": []
    },
    {
      "cell_type": "code",
      "metadata": {
        "colab": {
          "base_uri": "https://localhost:8080/"
        },
        "id": "gYf3zg1H5x3K",
        "outputId": "84aa5bbe-8439-409e-bc80-32efd716b050"
      },
      "source": [
        "_LABEL_NAMES = info.features['label'].names\n",
        "print(_LABEL_NAMES)"
      ],
      "execution_count": 40,
      "outputs": [
        {
          "output_type": "stream",
          "name": "stdout",
          "text": [
            "['World', 'Sports', 'Business', 'Sci/Tech']\n"
          ]
        }
      ]
    },
    {
      "cell_type": "code",
      "metadata": {
        "id": "aN1cp84Q6G_I"
      },
      "source": [
        "batch_size = 128"
      ],
      "execution_count": 41,
      "outputs": []
    },
    {
      "cell_type": "code",
      "metadata": {
        "id": "oz_a66cr6DDW"
      },
      "source": [
        "# convert a sample of dataset into pandas df for easy viewing\n",
        "train_sample_df = \\\n",
        "    tfds.as_dataframe(raw_train_ds.shuffle(batch_size).take(5),\n",
        "                      ds_info=info)[['description', 'label']]\n",
        "train_sample_df['topic'] = \\\n",
        "    train_sample_df['label'].apply(lambda x: _LABEL_NAMES[x])"
      ],
      "execution_count": 42,
      "outputs": []
    },
    {
      "cell_type": "code",
      "metadata": {
        "colab": {
          "base_uri": "https://localhost:8080/",
          "height": 204
        },
        "id": "2mmbYCUs6Ikt",
        "outputId": "1fcaf1ad-9387-4167-f307-f5c5012c14f6"
      },
      "source": [
        "(train_sample_df.head())"
      ],
      "execution_count": 43,
      "outputs": [
        {
          "output_type": "execute_result",
          "data": {
            "text/plain": [
              "                                                                                                                                             description  \\\n",
              "0  b'A car is overturned in a damaged Route 117 in Ojiya, northwest of Tokyo, Sunday, Oct. 24, 2004. A barrage of powerful quakes jolted the region S...   \n",
              "1      b'AP - Anticipated global warming by mid-century may be less severe in the central U.S. than elsewhere in the country, researchers said Tuesday.'   \n",
              "2  b'By wire services. Now it #39;s Roy Oswalt  #39;s turn to try to pitch the Astros to their first playoff series victory. He can only hope for mor...   \n",
              "3  b\"WASHINGTON - There's a new option for people who suffer from extreme nearsightedness, whose world loses its crisp edge just a few inches from th...   \n",
              "4  b'Hyundai Motor Co. said Friday that it is recalling about 120,000 2004 and 2005 model Elantra sedans because of a software problem with its air-b...   \n",
              "\n",
              "   label     topic  \n",
              "0      0     World  \n",
              "1      3  Sci/Tech  \n",
              "2      1    Sports  \n",
              "3      0     World  \n",
              "4      2  Business  "
            ],
            "text/html": [
              "\n",
              "  <div id=\"df-9491ff66-0a19-4143-8ad0-c26a4bd4cf63\" class=\"colab-df-container\">\n",
              "    <div>\n",
              "<style scoped>\n",
              "    .dataframe tbody tr th:only-of-type {\n",
              "        vertical-align: middle;\n",
              "    }\n",
              "\n",
              "    .dataframe tbody tr th {\n",
              "        vertical-align: top;\n",
              "    }\n",
              "\n",
              "    .dataframe thead th {\n",
              "        text-align: right;\n",
              "    }\n",
              "</style>\n",
              "<table border=\"1\" class=\"dataframe\">\n",
              "  <thead>\n",
              "    <tr style=\"text-align: right;\">\n",
              "      <th></th>\n",
              "      <th>description</th>\n",
              "      <th>label</th>\n",
              "      <th>topic</th>\n",
              "    </tr>\n",
              "  </thead>\n",
              "  <tbody>\n",
              "    <tr>\n",
              "      <th>0</th>\n",
              "      <td>b'A car is overturned in a damaged Route 117 in Ojiya, northwest of Tokyo, Sunday, Oct. 24, 2004. A barrage of powerful quakes jolted the region S...</td>\n",
              "      <td>0</td>\n",
              "      <td>World</td>\n",
              "    </tr>\n",
              "    <tr>\n",
              "      <th>1</th>\n",
              "      <td>b'AP - Anticipated global warming by mid-century may be less severe in the central U.S. than elsewhere in the country, researchers said Tuesday.'</td>\n",
              "      <td>3</td>\n",
              "      <td>Sci/Tech</td>\n",
              "    </tr>\n",
              "    <tr>\n",
              "      <th>2</th>\n",
              "      <td>b'By wire services. Now it #39;s Roy Oswalt  #39;s turn to try to pitch the Astros to their first playoff series victory. He can only hope for mor...</td>\n",
              "      <td>1</td>\n",
              "      <td>Sports</td>\n",
              "    </tr>\n",
              "    <tr>\n",
              "      <th>3</th>\n",
              "      <td>b\"WASHINGTON - There's a new option for people who suffer from extreme nearsightedness, whose world loses its crisp edge just a few inches from th...</td>\n",
              "      <td>0</td>\n",
              "      <td>World</td>\n",
              "    </tr>\n",
              "    <tr>\n",
              "      <th>4</th>\n",
              "      <td>b'Hyundai Motor Co. said Friday that it is recalling about 120,000 2004 and 2005 model Elantra sedans because of a software problem with its air-b...</td>\n",
              "      <td>2</td>\n",
              "      <td>Business</td>\n",
              "    </tr>\n",
              "  </tbody>\n",
              "</table>\n",
              "</div>\n",
              "    <div class=\"colab-df-buttons\">\n",
              "\n",
              "  <div class=\"colab-df-container\">\n",
              "    <button class=\"colab-df-convert\" onclick=\"convertToInteractive('df-9491ff66-0a19-4143-8ad0-c26a4bd4cf63')\"\n",
              "            title=\"Convert this dataframe to an interactive table.\"\n",
              "            style=\"display:none;\">\n",
              "\n",
              "  <svg xmlns=\"http://www.w3.org/2000/svg\" height=\"24px\" viewBox=\"0 -960 960 960\">\n",
              "    <path d=\"M120-120v-720h720v720H120Zm60-500h600v-160H180v160Zm220 220h160v-160H400v160Zm0 220h160v-160H400v160ZM180-400h160v-160H180v160Zm440 0h160v-160H620v160ZM180-180h160v-160H180v160Zm440 0h160v-160H620v160Z\"/>\n",
              "  </svg>\n",
              "    </button>\n",
              "\n",
              "  <style>\n",
              "    .colab-df-container {\n",
              "      display:flex;\n",
              "      gap: 12px;\n",
              "    }\n",
              "\n",
              "    .colab-df-convert {\n",
              "      background-color: #E8F0FE;\n",
              "      border: none;\n",
              "      border-radius: 50%;\n",
              "      cursor: pointer;\n",
              "      display: none;\n",
              "      fill: #1967D2;\n",
              "      height: 32px;\n",
              "      padding: 0 0 0 0;\n",
              "      width: 32px;\n",
              "    }\n",
              "\n",
              "    .colab-df-convert:hover {\n",
              "      background-color: #E2EBFA;\n",
              "      box-shadow: 0px 1px 2px rgba(60, 64, 67, 0.3), 0px 1px 3px 1px rgba(60, 64, 67, 0.15);\n",
              "      fill: #174EA6;\n",
              "    }\n",
              "\n",
              "    .colab-df-buttons div {\n",
              "      margin-bottom: 4px;\n",
              "    }\n",
              "\n",
              "    [theme=dark] .colab-df-convert {\n",
              "      background-color: #3B4455;\n",
              "      fill: #D2E3FC;\n",
              "    }\n",
              "\n",
              "    [theme=dark] .colab-df-convert:hover {\n",
              "      background-color: #434B5C;\n",
              "      box-shadow: 0px 1px 3px 1px rgba(0, 0, 0, 0.15);\n",
              "      filter: drop-shadow(0px 1px 2px rgba(0, 0, 0, 0.3));\n",
              "      fill: #FFFFFF;\n",
              "    }\n",
              "  </style>\n",
              "\n",
              "    <script>\n",
              "      const buttonEl =\n",
              "        document.querySelector('#df-9491ff66-0a19-4143-8ad0-c26a4bd4cf63 button.colab-df-convert');\n",
              "      buttonEl.style.display =\n",
              "        google.colab.kernel.accessAllowed ? 'block' : 'none';\n",
              "\n",
              "      async function convertToInteractive(key) {\n",
              "        const element = document.querySelector('#df-9491ff66-0a19-4143-8ad0-c26a4bd4cf63');\n",
              "        const dataTable =\n",
              "          await google.colab.kernel.invokeFunction('convertToInteractive',\n",
              "                                                    [key], {});\n",
              "        if (!dataTable) return;\n",
              "\n",
              "        const docLinkHtml = 'Like what you see? Visit the ' +\n",
              "          '<a target=\"_blank\" href=https://colab.research.google.com/notebooks/data_table.ipynb>data table notebook</a>'\n",
              "          + ' to learn more about interactive tables.';\n",
              "        element.innerHTML = '';\n",
              "        dataTable['output_type'] = 'display_data';\n",
              "        await google.colab.output.renderOutput(dataTable, element);\n",
              "        const docLink = document.createElement('div');\n",
              "        docLink.innerHTML = docLinkHtml;\n",
              "        element.appendChild(docLink);\n",
              "      }\n",
              "    </script>\n",
              "  </div>\n",
              "\n",
              "\n",
              "<div id=\"df-2eb78c89-dfdd-4aa1-8172-e3ee300b812c\">\n",
              "  <button class=\"colab-df-quickchart\" onclick=\"quickchart('df-2eb78c89-dfdd-4aa1-8172-e3ee300b812c')\"\n",
              "            title=\"Suggest charts\"\n",
              "            style=\"display:none;\">\n",
              "\n",
              "<svg xmlns=\"http://www.w3.org/2000/svg\" height=\"24px\"viewBox=\"0 0 24 24\"\n",
              "     width=\"24px\">\n",
              "    <g>\n",
              "        <path d=\"M19 3H5c-1.1 0-2 .9-2 2v14c0 1.1.9 2 2 2h14c1.1 0 2-.9 2-2V5c0-1.1-.9-2-2-2zM9 17H7v-7h2v7zm4 0h-2V7h2v10zm4 0h-2v-4h2v4z\"/>\n",
              "    </g>\n",
              "</svg>\n",
              "  </button>\n",
              "\n",
              "<style>\n",
              "  .colab-df-quickchart {\n",
              "      --bg-color: #E8F0FE;\n",
              "      --fill-color: #1967D2;\n",
              "      --hover-bg-color: #E2EBFA;\n",
              "      --hover-fill-color: #174EA6;\n",
              "      --disabled-fill-color: #AAA;\n",
              "      --disabled-bg-color: #DDD;\n",
              "  }\n",
              "\n",
              "  [theme=dark] .colab-df-quickchart {\n",
              "      --bg-color: #3B4455;\n",
              "      --fill-color: #D2E3FC;\n",
              "      --hover-bg-color: #434B5C;\n",
              "      --hover-fill-color: #FFFFFF;\n",
              "      --disabled-bg-color: #3B4455;\n",
              "      --disabled-fill-color: #666;\n",
              "  }\n",
              "\n",
              "  .colab-df-quickchart {\n",
              "    background-color: var(--bg-color);\n",
              "    border: none;\n",
              "    border-radius: 50%;\n",
              "    cursor: pointer;\n",
              "    display: none;\n",
              "    fill: var(--fill-color);\n",
              "    height: 32px;\n",
              "    padding: 0;\n",
              "    width: 32px;\n",
              "  }\n",
              "\n",
              "  .colab-df-quickchart:hover {\n",
              "    background-color: var(--hover-bg-color);\n",
              "    box-shadow: 0 1px 2px rgba(60, 64, 67, 0.3), 0 1px 3px 1px rgba(60, 64, 67, 0.15);\n",
              "    fill: var(--button-hover-fill-color);\n",
              "  }\n",
              "\n",
              "  .colab-df-quickchart-complete:disabled,\n",
              "  .colab-df-quickchart-complete:disabled:hover {\n",
              "    background-color: var(--disabled-bg-color);\n",
              "    fill: var(--disabled-fill-color);\n",
              "    box-shadow: none;\n",
              "  }\n",
              "\n",
              "  .colab-df-spinner {\n",
              "    border: 2px solid var(--fill-color);\n",
              "    border-color: transparent;\n",
              "    border-bottom-color: var(--fill-color);\n",
              "    animation:\n",
              "      spin 1s steps(1) infinite;\n",
              "  }\n",
              "\n",
              "  @keyframes spin {\n",
              "    0% {\n",
              "      border-color: transparent;\n",
              "      border-bottom-color: var(--fill-color);\n",
              "      border-left-color: var(--fill-color);\n",
              "    }\n",
              "    20% {\n",
              "      border-color: transparent;\n",
              "      border-left-color: var(--fill-color);\n",
              "      border-top-color: var(--fill-color);\n",
              "    }\n",
              "    30% {\n",
              "      border-color: transparent;\n",
              "      border-left-color: var(--fill-color);\n",
              "      border-top-color: var(--fill-color);\n",
              "      border-right-color: var(--fill-color);\n",
              "    }\n",
              "    40% {\n",
              "      border-color: transparent;\n",
              "      border-right-color: var(--fill-color);\n",
              "      border-top-color: var(--fill-color);\n",
              "    }\n",
              "    60% {\n",
              "      border-color: transparent;\n",
              "      border-right-color: var(--fill-color);\n",
              "    }\n",
              "    80% {\n",
              "      border-color: transparent;\n",
              "      border-right-color: var(--fill-color);\n",
              "      border-bottom-color: var(--fill-color);\n",
              "    }\n",
              "    90% {\n",
              "      border-color: transparent;\n",
              "      border-bottom-color: var(--fill-color);\n",
              "    }\n",
              "  }\n",
              "</style>\n",
              "\n",
              "  <script>\n",
              "    async function quickchart(key) {\n",
              "      const quickchartButtonEl =\n",
              "        document.querySelector('#' + key + ' button');\n",
              "      quickchartButtonEl.disabled = true;  // To prevent multiple clicks.\n",
              "      quickchartButtonEl.classList.add('colab-df-spinner');\n",
              "      try {\n",
              "        const charts = await google.colab.kernel.invokeFunction(\n",
              "            'suggestCharts', [key], {});\n",
              "      } catch (error) {\n",
              "        console.error('Error during call to suggestCharts:', error);\n",
              "      }\n",
              "      quickchartButtonEl.classList.remove('colab-df-spinner');\n",
              "      quickchartButtonEl.classList.add('colab-df-quickchart-complete');\n",
              "    }\n",
              "    (() => {\n",
              "      let quickchartButtonEl =\n",
              "        document.querySelector('#df-2eb78c89-dfdd-4aa1-8172-e3ee300b812c button');\n",
              "      quickchartButtonEl.style.display =\n",
              "        google.colab.kernel.accessAllowed ? 'block' : 'none';\n",
              "    })();\n",
              "  </script>\n",
              "</div>\n",
              "\n",
              "    </div>\n",
              "  </div>\n"
            ],
            "application/vnd.google.colaboratory.intrinsic+json": {
              "type": "dataframe",
              "summary": "{\n  \"name\": \"(train_sample_df\",\n  \"rows\": 5,\n  \"fields\": [\n    {\n      \"column\": \"description\",\n      \"properties\": {\n        \"dtype\": \"string\",\n        \"num_unique_values\": 5,\n        \"samples\": [\n          \"b'AP - Anticipated global warming by mid-century may be less severe in the central U.S. than elsewhere in the country, researchers said Tuesday.'\",\n          \"b'Hyundai Motor Co. said Friday that it is recalling about 120,000 2004 and 2005 model Elantra sedans because of a software problem with its air-bag system.'\",\n          \"b'By wire services. Now it #39;s Roy Oswalt  #39;s turn to try to pitch the Astros to their first playoff series victory. He can only hope for more help from his bullpen than Roger Clemens got Sunday.'\"\n        ],\n        \"semantic_type\": \"\",\n        \"description\": \"\"\n      }\n    },\n    {\n      \"column\": \"label\",\n      \"properties\": {\n        \"dtype\": \"number\",\n        \"std\": 1,\n        \"min\": 0,\n        \"max\": 3,\n        \"num_unique_values\": 4,\n        \"samples\": [\n          3,\n          2,\n          0\n        ],\n        \"semantic_type\": \"\",\n        \"description\": \"\"\n      }\n    },\n    {\n      \"column\": \"topic\",\n      \"properties\": {\n        \"dtype\": \"string\",\n        \"num_unique_values\": 4,\n        \"samples\": [\n          \"Sci/Tech\",\n          \"Business\",\n          \"World\"\n        ],\n        \"semantic_type\": \"\",\n        \"description\": \"\"\n      }\n    }\n  ]\n}"
            }
          },
          "metadata": {},
          "execution_count": 43
        }
      ]
    },
    {
      "cell_type": "markdown",
      "metadata": {
        "id": "ilfk5ngv7FdV"
      },
      "source": [
        "The Model's goal is to predict the topic (label) given the description."
      ]
    },
    {
      "cell_type": "code",
      "metadata": {
        "id": "2NHiKEzm7MjA"
      },
      "source": [
        "# Need to covert the dataset from dict to tuple;\n",
        "\n",
        "@tf.autograph.experimental.do_not_convert\n",
        "def convert_ds_to_tuple(sample):\n",
        "\n",
        "    \"\"\" the original dataset is of the form of a dict\n",
        "     {description: (), label: (), title: ()}\n",
        "\n",
        "      TF's model.fit() method required datasets to be of the form\n",
        "      A tf.data dataset that returns a tuple of (inputs, targets)\"\"\"\n",
        "\n",
        "    return sample['description'], sample['label']\n",
        "\n",
        "\n",
        "# converting all datasets from dicts to tuples\n",
        "raw_train_ds = raw_train_ds.map(convert_ds_to_tuple).batch(batch_size)\n",
        "raw_val_ds = raw_val_ds.map(convert_ds_to_tuple).batch(batch_size)\n",
        "raw_test_ds = raw_test_ds.map(convert_ds_to_tuple).batch(batch_size)\n"
      ],
      "execution_count": 44,
      "outputs": []
    },
    {
      "cell_type": "code",
      "metadata": {
        "id": "0UfjtG0G7ah3"
      },
      "source": [
        "# initiating model building;\n",
        "# build the tokenizer layer first\n",
        "vocab_size = 1000\n",
        "e_dim = 64\n",
        "n_classes = info.features['label'].num_classes\n",
        "pre_processing_layer = TextVectorization(max_tokens=vocab_size,\n",
        "                                         output_sequence_length=50,\n",
        "                                         name='Notes_preprocessing_layer')\n",
        "\n",
        "# fit the training set to the layer\n",
        "pre_processing_layer.adapt(raw_train_ds.map(lambda x, y: x))\n",
        "# store the vocab\n",
        "vocab = pre_processing_layer.get_vocabulary()"
      ],
      "execution_count": 45,
      "outputs": []
    },
    {
      "cell_type": "code",
      "metadata": {
        "colab": {
          "base_uri": "https://localhost:8080/"
        },
        "id": "_xm66qws7ec-",
        "outputId": "5897d7d2-09f0-4bc6-ea77-e81206ee3344"
      },
      "source": [
        "# vectorize the text inputs\n",
        "\n",
        "@tf.autograph.experimental.do_not_convert\n",
        "def vectorize_text(text, label):\n",
        "\n",
        "    \"\"\" convert text to tokens \"\"\"\n",
        "\n",
        "    text = tf.expand_dims(text, -1)\n",
        "    return pre_processing_layer(text), label\n",
        "\n",
        "\n",
        "# print an example\n",
        "text_batch, label_batch = next(iter(raw_train_ds.shuffle(50)))\n",
        "first_review, first_label = text_batch[0], label_batch[0]\n",
        "print(\"Review: \", first_review)\n",
        "print(\"Label: \", _LABEL_NAMES[first_label])\n",
        "print(\"Vectorized review\", vectorize_text(first_review, first_label))\n"
      ],
      "execution_count": 46,
      "outputs": [
        {
          "output_type": "stream",
          "name": "stdout",
          "text": [
            "Review:  tf.Tensor(b'Since early adolescence, I #39;ve had a dream. OK, two dreams. But I should probably stick to talking about the one that doesn #39;t involve Elle MacPherson.', shape=(), dtype=string)\n",
            "Label:  Sports\n",
            "Vectorized review (<tf.Tensor: shape=(1, 50), dtype=int64, numpy=\n",
            "array([[188, 228,   1, 325,   1,  67,   3,   1,   1,  38,   1,  37, 325,\n",
            "        334,   1,   1,   4,   1,  58,   2,  50,  10,   1, 203,   1,   1,\n",
            "          1,   0,   0,   0,   0,   0,   0,   0,   0,   0,   0,   0,   0,\n",
            "          0,   0,   0,   0,   0,   0,   0,   0,   0,   0,   0]])>, <tf.Tensor: shape=(), dtype=int64, numpy=1>)\n"
          ]
        }
      ]
    },
    {
      "cell_type": "code",
      "metadata": {
        "id": "VsKk2-Ua7nF1"
      },
      "source": [
        "# tokenize all datasets and prepare for training\n",
        "train_ds = raw_train_ds.map(vectorize_text)\n",
        "val_ds = raw_val_ds.map(vectorize_text)\n",
        "test_ds = raw_test_ds.map(vectorize_text)\n",
        "\n",
        "AUTOTUNE = tf.data.AUTOTUNE\n",
        "train_ds = train_ds.cache().prefetch(buffer_size=AUTOTUNE)\n",
        "val_ds = val_ds.cache().prefetch(buffer_size=AUTOTUNE)\n",
        "test_ds = test_ds.cache().prefetch(buffer_size=AUTOTUNE)\n"
      ],
      "execution_count": 47,
      "outputs": []
    },
    {
      "cell_type": "code",
      "source": [
        "max_len = pre_processing_layer.get_config()['output_sequence_length']\n",
        "print(\"Max Sequence Length:\", max_len)"
      ],
      "metadata": {
        "colab": {
          "base_uri": "https://localhost:8080/"
        },
        "id": "PH0w9a48Yy62",
        "outputId": "ba01b5ee-373c-4c87-a42a-103ac3ee6a0f"
      },
      "execution_count": 48,
      "outputs": [
        {
          "output_type": "stream",
          "name": "stdout",
          "text": [
            "Max Sequence Length: 50\n"
          ]
        }
      ]
    },
    {
      "cell_type": "code",
      "metadata": {
        "id": "a8Fk15UU7s-v",
        "colab": {
          "base_uri": "https://localhost:8080/"
        },
        "outputId": "9e0ff241-968f-4340-80d9-55f8bf2456ed"
      },
      "source": [
        "# Build the model\n",
        "# lets build a simple Bi-directional LSTM model\n",
        "tf.keras.backend.clear_session()\n",
        "model = tf.keras.Sequential([\n",
        "    tf.keras.layers.Embedding(input_dim=vocab_size,\n",
        "                              output_dim=e_dim,\n",
        "                              input_length=max_len,\n",
        "                              name='embedding',\n",
        "                              mask_zero=True),\n",
        "    tf.keras.layers.Bidirectional(tf.keras.layers.LSTM(32)),\n",
        "    tf.keras.layers.Dense(16, activation='relu'),\n",
        "    tf.keras.layers.Dense(n_classes, activation='softmax', name='probs')\n",
        "])\n"
      ],
      "execution_count": 49,
      "outputs": [
        {
          "output_type": "stream",
          "name": "stderr",
          "text": [
            "/usr/local/lib/python3.11/dist-packages/keras/src/layers/core/embedding.py:90: UserWarning: Argument `input_length` is deprecated. Just remove it.\n",
            "  warnings.warn(\n"
          ]
        }
      ]
    },
    {
      "cell_type": "code",
      "metadata": {
        "colab": {
          "base_uri": "https://localhost:8080/",
          "height": 257
        },
        "id": "eHYfkASW7zPK",
        "outputId": "c68b5ea6-c0ae-42b4-987e-e8df4a4325c9"
      },
      "source": [
        "model.summary()"
      ],
      "execution_count": 50,
      "outputs": [
        {
          "output_type": "display_data",
          "data": {
            "text/plain": [
              "\u001b[1mModel: \"sequential\"\u001b[0m\n"
            ],
            "text/html": [
              "<pre style=\"white-space:pre;overflow-x:auto;line-height:normal;font-family:Menlo,'DejaVu Sans Mono',consolas,'Courier New',monospace\"><span style=\"font-weight: bold\">Model: \"sequential\"</span>\n",
              "</pre>\n"
            ]
          },
          "metadata": {}
        },
        {
          "output_type": "display_data",
          "data": {
            "text/plain": [
              "┏━━━━━━━━━━━━━━━━━━━━━━━━━━━━━━━━━━━━━━┳━━━━━━━━━━━━━━━━━━━━━━━━━━━━━┳━━━━━━━━━━━━━━━━━┓\n",
              "┃\u001b[1m \u001b[0m\u001b[1mLayer (type)                        \u001b[0m\u001b[1m \u001b[0m┃\u001b[1m \u001b[0m\u001b[1mOutput Shape               \u001b[0m\u001b[1m \u001b[0m┃\u001b[1m \u001b[0m\u001b[1m        Param #\u001b[0m\u001b[1m \u001b[0m┃\n",
              "┡━━━━━━━━━━━━━━━━━━━━━━━━━━━━━━━━━━━━━━╇━━━━━━━━━━━━━━━━━━━━━━━━━━━━━╇━━━━━━━━━━━━━━━━━┩\n",
              "│ embedding (\u001b[38;5;33mEmbedding\u001b[0m)                │ ?                           │     \u001b[38;5;34m0\u001b[0m (unbuilt) │\n",
              "├──────────────────────────────────────┼─────────────────────────────┼─────────────────┤\n",
              "│ bidirectional (\u001b[38;5;33mBidirectional\u001b[0m)        │ ?                           │     \u001b[38;5;34m0\u001b[0m (unbuilt) │\n",
              "├──────────────────────────────────────┼─────────────────────────────┼─────────────────┤\n",
              "│ dense (\u001b[38;5;33mDense\u001b[0m)                        │ ?                           │     \u001b[38;5;34m0\u001b[0m (unbuilt) │\n",
              "├──────────────────────────────────────┼─────────────────────────────┼─────────────────┤\n",
              "│ probs (\u001b[38;5;33mDense\u001b[0m)                        │ ?                           │     \u001b[38;5;34m0\u001b[0m (unbuilt) │\n",
              "└──────────────────────────────────────┴─────────────────────────────┴─────────────────┘\n"
            ],
            "text/html": [
              "<pre style=\"white-space:pre;overflow-x:auto;line-height:normal;font-family:Menlo,'DejaVu Sans Mono',consolas,'Courier New',monospace\">┏━━━━━━━━━━━━━━━━━━━━━━━━━━━━━━━━━━━━━━┳━━━━━━━━━━━━━━━━━━━━━━━━━━━━━┳━━━━━━━━━━━━━━━━━┓\n",
              "┃<span style=\"font-weight: bold\"> Layer (type)                         </span>┃<span style=\"font-weight: bold\"> Output Shape                </span>┃<span style=\"font-weight: bold\">         Param # </span>┃\n",
              "┡━━━━━━━━━━━━━━━━━━━━━━━━━━━━━━━━━━━━━━╇━━━━━━━━━━━━━━━━━━━━━━━━━━━━━╇━━━━━━━━━━━━━━━━━┩\n",
              "│ embedding (<span style=\"color: #0087ff; text-decoration-color: #0087ff\">Embedding</span>)                │ ?                           │     <span style=\"color: #00af00; text-decoration-color: #00af00\">0</span> (unbuilt) │\n",
              "├──────────────────────────────────────┼─────────────────────────────┼─────────────────┤\n",
              "│ bidirectional (<span style=\"color: #0087ff; text-decoration-color: #0087ff\">Bidirectional</span>)        │ ?                           │     <span style=\"color: #00af00; text-decoration-color: #00af00\">0</span> (unbuilt) │\n",
              "├──────────────────────────────────────┼─────────────────────────────┼─────────────────┤\n",
              "│ dense (<span style=\"color: #0087ff; text-decoration-color: #0087ff\">Dense</span>)                        │ ?                           │     <span style=\"color: #00af00; text-decoration-color: #00af00\">0</span> (unbuilt) │\n",
              "├──────────────────────────────────────┼─────────────────────────────┼─────────────────┤\n",
              "│ probs (<span style=\"color: #0087ff; text-decoration-color: #0087ff\">Dense</span>)                        │ ?                           │     <span style=\"color: #00af00; text-decoration-color: #00af00\">0</span> (unbuilt) │\n",
              "└──────────────────────────────────────┴─────────────────────────────┴─────────────────┘\n",
              "</pre>\n"
            ]
          },
          "metadata": {}
        },
        {
          "output_type": "display_data",
          "data": {
            "text/plain": [
              "\u001b[1m Total params: \u001b[0m\u001b[38;5;34m0\u001b[0m (0.00 B)\n"
            ],
            "text/html": [
              "<pre style=\"white-space:pre;overflow-x:auto;line-height:normal;font-family:Menlo,'DejaVu Sans Mono',consolas,'Courier New',monospace\"><span style=\"font-weight: bold\"> Total params: </span><span style=\"color: #00af00; text-decoration-color: #00af00\">0</span> (0.00 B)\n",
              "</pre>\n"
            ]
          },
          "metadata": {}
        },
        {
          "output_type": "display_data",
          "data": {
            "text/plain": [
              "\u001b[1m Trainable params: \u001b[0m\u001b[38;5;34m0\u001b[0m (0.00 B)\n"
            ],
            "text/html": [
              "<pre style=\"white-space:pre;overflow-x:auto;line-height:normal;font-family:Menlo,'DejaVu Sans Mono',consolas,'Courier New',monospace\"><span style=\"font-weight: bold\"> Trainable params: </span><span style=\"color: #00af00; text-decoration-color: #00af00\">0</span> (0.00 B)\n",
              "</pre>\n"
            ]
          },
          "metadata": {}
        },
        {
          "output_type": "display_data",
          "data": {
            "text/plain": [
              "\u001b[1m Non-trainable params: \u001b[0m\u001b[38;5;34m0\u001b[0m (0.00 B)\n"
            ],
            "text/html": [
              "<pre style=\"white-space:pre;overflow-x:auto;line-height:normal;font-family:Menlo,'DejaVu Sans Mono',consolas,'Courier New',monospace\"><span style=\"font-weight: bold\"> Non-trainable params: </span><span style=\"color: #00af00; text-decoration-color: #00af00\">0</span> (0.00 B)\n",
              "</pre>\n"
            ]
          },
          "metadata": {}
        }
      ]
    },
    {
      "cell_type": "code",
      "metadata": {
        "id": "Dc1_SeaK71yZ"
      },
      "source": [
        "# compile the model\n",
        "model.compile(optimizer='adam',\n",
        "              loss=tf.keras.losses.SparseCategoricalCrossentropy(),\n",
        "              metrics=[tf.keras.metrics.SparseCategoricalAccuracy()])"
      ],
      "execution_count": 51,
      "outputs": []
    },
    {
      "cell_type": "code",
      "metadata": {
        "colab": {
          "base_uri": "https://localhost:8080/"
        },
        "id": "nQhl_Erg7322",
        "outputId": "5a6acbc1-e452-4a1b-88e8-2f934a726d20"
      },
      "source": [
        "# train the model; lets try for 5 epochs\n",
        "model.fit(train_ds, validation_data=val_ds, epochs=5, verbose=1)"
      ],
      "execution_count": 52,
      "outputs": [
        {
          "output_type": "stream",
          "name": "stdout",
          "text": [
            "Epoch 1/5\n",
            "\u001b[1m844/844\u001b[0m \u001b[32m━━━━━━━━━━━━━━━━━━━━\u001b[0m\u001b[37m\u001b[0m \u001b[1m22s\u001b[0m 23ms/step - loss: 0.7841 - sparse_categorical_accuracy: 0.6738 - val_loss: 0.4335 - val_sparse_categorical_accuracy: 0.8443\n",
            "Epoch 2/5\n",
            "\u001b[1m844/844\u001b[0m \u001b[32m━━━━━━━━━━━━━━━━━━━━\u001b[0m\u001b[37m\u001b[0m \u001b[1m13s\u001b[0m 16ms/step - loss: 0.4302 - sparse_categorical_accuracy: 0.8440 - val_loss: 0.3931 - val_sparse_categorical_accuracy: 0.8592\n",
            "Epoch 3/5\n",
            "\u001b[1m844/844\u001b[0m \u001b[32m━━━━━━━━━━━━━━━━━━━━\u001b[0m\u001b[37m\u001b[0m \u001b[1m12s\u001b[0m 15ms/step - loss: 0.3939 - sparse_categorical_accuracy: 0.8555 - val_loss: 0.3715 - val_sparse_categorical_accuracy: 0.8656\n",
            "Epoch 4/5\n",
            "\u001b[1m844/844\u001b[0m \u001b[32m━━━━━━━━━━━━━━━━━━━━\u001b[0m\u001b[37m\u001b[0m \u001b[1m12s\u001b[0m 15ms/step - loss: 0.3757 - sparse_categorical_accuracy: 0.8607 - val_loss: 0.3561 - val_sparse_categorical_accuracy: 0.8699\n",
            "Epoch 5/5\n",
            "\u001b[1m844/844\u001b[0m \u001b[32m━━━━━━━━━━━━━━━━━━━━\u001b[0m\u001b[37m\u001b[0m \u001b[1m27s\u001b[0m 22ms/step - loss: 0.3603 - sparse_categorical_accuracy: 0.8667 - val_loss: 0.3457 - val_sparse_categorical_accuracy: 0.8729\n"
          ]
        },
        {
          "output_type": "execute_result",
          "data": {
            "text/plain": [
              "<keras.src.callbacks.history.History at 0x7e9a881a62d0>"
            ]
          },
          "metadata": {},
          "execution_count": 52
        }
      ]
    },
    {
      "cell_type": "code",
      "metadata": {
        "colab": {
          "base_uri": "https://localhost:8080/"
        },
        "id": "9gL1noNR77AG",
        "outputId": "7bd11a87-7dfd-42a0-e5a8-cd4d735cfc0c"
      },
      "source": [
        "# evaluate the model\n",
        "model.evaluate(test_ds, verbose=2)\n"
      ],
      "execution_count": 53,
      "outputs": [
        {
          "output_type": "stream",
          "name": "stdout",
          "text": [
            "60/60 - 1s - 10ms/step - loss: 0.4028 - sparse_categorical_accuracy: 0.8522\n"
          ]
        },
        {
          "output_type": "execute_result",
          "data": {
            "text/plain": [
              "[0.40278327465057373, 0.8522368669509888]"
            ]
          },
          "metadata": {},
          "execution_count": 53
        }
      ]
    },
    {
      "cell_type": "code",
      "metadata": {
        "id": "gfJxXXAG861c",
        "colab": {
          "base_uri": "https://localhost:8080/"
        },
        "outputId": "2dc3ea67-6679-4bb4-afa9-407d644a95b5"
      },
      "source": [
        "# get predictions\n",
        "test_probs = model.predict(test_ds)\n",
        "test_preds = tf.argmax(test_probs, axis=1)\n",
        "test_labels = \\\n",
        "    test_ds.flat_map(lambda x, y:\n",
        "                     tf.data.Dataset.from_tensor_slices(y)).as_numpy_iterator()\n",
        "test_labels = tf.convert_to_tensor(list(test_labels), dtype=test_preds.dtype)"
      ],
      "execution_count": 54,
      "outputs": [
        {
          "output_type": "stream",
          "name": "stdout",
          "text": [
            "\u001b[1m60/60\u001b[0m \u001b[32m━━━━━━━━━━━━━━━━━━━━\u001b[0m\u001b[37m\u001b[0m \u001b[1m1s\u001b[0m 8ms/step\n"
          ]
        }
      ]
    },
    {
      "cell_type": "code",
      "metadata": {
        "colab": {
          "base_uri": "https://localhost:8080/",
          "height": 430
        },
        "id": "lZP5ODT18-R9",
        "outputId": "41d78ccd-32f6-4a28-f515-c150371c062d"
      },
      "source": [
        "# build confusion matrix\n",
        "cm = tf.math.confusion_matrix(test_labels, test_preds)\n",
        "\n",
        "# plot confusion matrix\n",
        "sns.heatmap(cm, annot=True, fmt='d', cmap=\"Blues\", xticklabels=_LABEL_NAMES,\n",
        "            yticklabels=_LABEL_NAMES, cbar=False)\n",
        "plt.show()"
      ],
      "execution_count": 55,
      "outputs": [
        {
          "output_type": "display_data",
          "data": {
            "text/plain": [
              "<Figure size 640x480 with 1 Axes>"
            ],
            "image/png": "[encoded data removed]"
          },
          "metadata": {}
        }
      ]
    },
    {
      "cell_type": "markdown",
      "metadata": {
        "id": "KS2Icgpp9I0t"
      },
      "source": [
        "### INTEGRATED GRADIENTS for understanding feature importance\n",
        "Refer to https://arxiv.org/pdf/1703.01365.pdf for all the details\n",
        "\n",
        "\n",
        "##### VERY IMPORTANT : in Tensorflow, gradients dont pass through Embedding layer; so will get the embedding layer out, and build the rest of the model as `new_model`\n"
      ]
    },
    {
      "cell_type": "code",
      "metadata": {
        "id": "tqoEde3c9JkW"
      },
      "source": [
        "embed_layer = model.get_layer('embedding')\n",
        "\n",
        "# build new model with all layers after embedding layer\n",
        "new_model = tf.keras.Sequential()\n",
        "for layer in model.layers[1:]:\n",
        "    new_model.add(layer)"
      ],
      "execution_count": 56,
      "outputs": []
    },
    {
      "cell_type": "code",
      "metadata": {
        "id": "xBRZf47i9UKD"
      },
      "source": [
        "# take some test data\n",
        "sample_vectors = next(test_ds.take(1).as_numpy_iterator())[0]\n",
        "sample_texts = next(raw_test_ds.take(1).as_numpy_iterator())[0]\n",
        "sample_labels = next(test_ds.take(1).as_numpy_iterator())[1]"
      ],
      "execution_count": 57,
      "outputs": []
    },
    {
      "cell_type": "markdown",
      "metadata": {
        "id": "WRJ-0x_Z_LFC"
      },
      "source": [
        "Run all the code below this line to visualize a different example"
      ]
    },
    {
      "cell_type": "code",
      "metadata": {
        "id": "MkzbuyhR9ZMx"
      },
      "source": [
        "# select a random index\n",
        "index = tf.cast(tf.random.uniform(shape=[1],\n",
        "                                  minval=sample_vectors.shape[0]),\n",
        "                dtype=tf.int8).numpy()[0]\n",
        "# generate a random sample\n",
        "sample_text = sample_texts[index]\n",
        "sample_vector = sample_vectors[index]\n",
        "sample_label = sample_labels[index]\n",
        "# get embeddings\n",
        "sample_embed = embed_layer(sample_vector)\n",
        "# Create a Baseline vector with zero embeddings\n",
        "baseline_embed = tf.zeros(shape=tf.shape(sample_embed))\n",
        "# get preds for sample\n",
        "sample_preds = model(sample_vectors)[index]\n",
        "# print the results with color codes\n",
        "words = [vocab[i] for i in sample_vector]"
      ],
      "execution_count": 58,
      "outputs": []
    },
    {
      "cell_type": "code",
      "metadata": {
        "id": "Y0pjECFx9c8Y"
      },
      "source": [
        "def interpolate_texts(baseline, text, m_steps):\n",
        "\n",
        "    \"\"\" Linearly interpolate the input vector\n",
        "    (embedding layer output of the sample vector)\"\"\"\n",
        "\n",
        "    # Generate m_steps intervals for integral_approximation() below.\n",
        "    alphas = tf.linspace(start=0.0, stop=1.0, num=m_steps+1)\n",
        "    # text = tf.cast(text, tf.float32)\n",
        "    alphas_x = alphas[:, tf.newaxis, tf.newaxis]\n",
        "    delta = text - baseline\n",
        "    texts = baseline + alphas_x * delta\n",
        "    return texts"
      ],
      "execution_count": 59,
      "outputs": []
    },
    {
      "cell_type": "code",
      "metadata": {
        "id": "vBlFqzib9kkS"
      },
      "source": [
        "n_steps = 50\n",
        "\n",
        "interpolated_texts = interpolate_texts(baseline_embed,\n",
        "                                       sample_embed,\n",
        "                                       n_steps)"
      ],
      "execution_count": 60,
      "outputs": []
    },
    {
      "cell_type": "code",
      "metadata": {
        "colab": {
          "base_uri": "https://localhost:8080/"
        },
        "id": "gtBuoviZ9laJ",
        "outputId": "f8774986-833f-4de7-a5bc-4dbc82766485"
      },
      "source": [
        "interpolated_texts.shape\n",
        "# (num_interpolations, seq_len, embed_dim)"
      ],
      "execution_count": 61,
      "outputs": [
        {
          "output_type": "execute_result",
          "data": {
            "text/plain": [
              "TensorShape([51, 50, 64])"
            ]
          },
          "metadata": {},
          "execution_count": 61
        }
      ]
    },
    {
      "cell_type": "code",
      "metadata": {
        "id": "B5RUD1w59wzx"
      },
      "source": [
        "def compute_gradients(t, target_class_idx):\n",
        "\n",
        "    \"\"\" compute the gradient wrt to embedding layer output \"\"\"\n",
        "\n",
        "    with tf.GradientTape() as tape:\n",
        "        tape.watch(t)\n",
        "        probs = new_model(t)[:, target_class_idx]\n",
        "    grads = tape.gradient(probs, t)\n",
        "    return grads"
      ],
      "execution_count": 62,
      "outputs": []
    },
    {
      "cell_type": "code",
      "metadata": {
        "id": "gYJfK0Lh95Fj"
      },
      "source": [
        "target_label = sample_label\n",
        "# target_label = 2\n",
        "path_gradients = compute_gradients(interpolated_texts, target_label)"
      ],
      "execution_count": 63,
      "outputs": []
    },
    {
      "cell_type": "code",
      "metadata": {
        "colab": {
          "base_uri": "https://localhost:8080/"
        },
        "id": "dnZEt8yhF691",
        "outputId": "ac98d7c3-d730-4eb0-a765-bc528d3d3887"
      },
      "source": [
        "path_gradients.shape\n",
        "# (num_interpolations, seq_len, embed_dim)"
      ],
      "execution_count": 64,
      "outputs": [
        {
          "output_type": "execute_result",
          "data": {
            "text/plain": [
              "TensorShape([51, 50, 64])"
            ]
          },
          "metadata": {},
          "execution_count": 64
        }
      ]
    },
    {
      "cell_type": "code",
      "metadata": {
        "id": "QLzbrqQZ99MV"
      },
      "source": [
        "# sum the grads of the interpolated vectors\n",
        "all_grads = tf.reduce_sum(path_gradients, axis=0) / n_steps\n",
        "# mulitply grads by (input - baseline); baseline is zero vectors\n",
        "x_grads = tf.math.multiply(all_grads, sample_embed)\n",
        "# sum all gradients across the embedding dimension\n",
        "igs = tf.reduce_sum(x_grads, axis=-1).numpy()"
      ],
      "execution_count": 65,
      "outputs": []
    },
    {
      "cell_type": "code",
      "metadata": {
        "id": "B1GtO3ZmCjxz"
      },
      "source": [
        "# took the code for this cell block from\n",
        "#  https://docs.seldon.io/projects/alibi/en/stable/examples/integrated_gradients_imdb.html\n",
        "\n",
        "def  hlstr(string, color='white'):\n",
        "    \"\"\"\n",
        "    Return HTML markup highlighting text with the desired color.\n",
        "    \"\"\"\n",
        "    return f\"<mark style=background-color:{color}>{string} </mark>\"\n",
        "\n",
        "\n",
        "def colorize(attrs, cmap='PiYG'):\n",
        "    \"\"\"\n",
        "    Compute hex colors based on the attributions for a single instance.\n",
        "    Uses a diverging colorscale by default and normalizes and scales\n",
        "    the colormap so that colors are consistent with the attributions.\n",
        "    \"\"\"\n",
        "\n",
        "    cmap_bound = tf.reduce_max(tf.abs(attrs))\n",
        "    norm = Normalize(vmin=-cmap_bound, vmax=cmap_bound)\n",
        "    cmap = mpl.cm.get_cmap(cmap)\n",
        "\n",
        "    # now compute hex values of colors\n",
        "    colors = list(map(lambda x: rgb2hex(cmap(norm(x))), attrs))\n",
        "    return colors"
      ],
      "execution_count": 66,
      "outputs": []
    },
    {
      "cell_type": "code",
      "metadata": {
        "id": "snJJOz5oILO4",
        "colab": {
          "base_uri": "https://localhost:8080/"
        },
        "outputId": "276a5a74-08b0-49b6-bef6-ba1a7ff824b0"
      },
      "source": [
        "colors = colorize(igs)"
      ],
      "execution_count": 67,
      "outputs": [
        {
          "output_type": "stream",
          "name": "stderr",
          "text": [
            "<ipython-input-66-ac2b22f3d3a9>:20: MatplotlibDeprecationWarning: The get_cmap function was deprecated in Matplotlib 3.7 and will be removed in 3.11. Use ``matplotlib.colormaps[name]`` or ``matplotlib.colormaps.get_cmap()`` or ``pyplot.get_cmap()`` instead.\n",
            "  cmap = mpl.cm.get_cmap(cmap)\n"
          ]
        }
      ]
    },
    {
      "cell_type": "code",
      "metadata": {
        "colab": {
          "base_uri": "https://localhost:8080/",
          "height": 292
        },
        "id": "0PfojEXN-gzw",
        "outputId": "03024d19-c0a2-43a1-fdd0-f4cda0d05890"
      },
      "source": [
        "# print the sample and predictions\n",
        "print(f\"Sample Text: {sample_text}\\n\")\n",
        "# print(f\"Sample Vector: {sample_vector}\")\n",
        "# print(f\"True Label: {_LABEL_NAMES[sample_label]}\")\n",
        "# print(f\"Predicted Label: \"\n",
        "#       f\"{_LABEL_NAMES[tf.argmax(sample_preds).numpy()]}\")\n",
        "print(\"Predictions : \")\n",
        "for index in tf.argsort(sample_preds,\n",
        "                        axis=-1, direction='DESCENDING').numpy():\n",
        "    print(f\"\\t{_LABEL_NAMES[index]} --> {sample_preds[index]*100:0.2f}%\")\n",
        "\n",
        "print(f\"\\nTrue Label: {_LABEL_NAMES[sample_label]}\")\n",
        "print(f\"\\nAttributions for Label: {_LABEL_NAMES[target_label]}\")\n",
        "print(f\"\\nTop 5 Important words: \"\n",
        "      f\"{[words[i] for i in tf.argsort(igs, -1, 'DESCENDING')[:5]]}\\n\")\n",
        "HTML(\"\".join(list(map(hlstr, words, colors))))"
      ],
      "execution_count": 68,
      "outputs": [
        {
          "output_type": "stream",
          "name": "stdout",
          "text": [
            "Sample Text: b'Howard Stern will leave a very different company than the Infinity Broadcasting he first joined in 1985. The Viacom-owned radio giant started out a '\n",
            "\n",
            "Predictions : \n",
            "\tBusiness --> 62.57%\n",
            "\tSci/Tech --> 33.78%\n",
            "\tSports --> 2.24%\n",
            "\tWorld --> 1.42%\n",
            "\n",
            "True Label: Business\n",
            "\n",
            "Attributions for Label: Business\n",
            "\n",
            "Top 5 Important words: [np.str_('giant'), np.str_('company'), np.str_('radio'), np.str_('will'), np.str_('he')]\n",
            "\n"
          ]
        },
        {
          "output_type": "execute_result",
          "data": {
            "text/plain": [
              "<IPython.core.display.HTML object>"
            ],
            "text/html": [
              "<mark style=background-color:#faebf3>[UNK] </mark><mark style=background-color:#faebf3>[UNK] </mark><mark style=background-color:#eff6e4>will </mark><mark style=background-color:#faeaf2>[UNK] </mark><mark style=background-color:#fbe9f2>a </mark><mark style=background-color:#fbe9f2>[UNK] </mark><mark style=background-color:#fbe9f2>[UNK] </mark><mark style=background-color:#498d20>company </mark><mark style=background-color:#fde1ef>than </mark><mark style=background-color:#f9eff4>the </mark><mark style=background-color:#faeaf2>[UNK] </mark><mark style=background-color:#faeaf2>[UNK] </mark><mark style=background-color:#f3f6ed>he </mark><mark style=background-color:#f9f1f5>first </mark><mark style=background-color:#fbe9f2>[UNK] </mark><mark style=background-color:#f9f0f5>in </mark><mark style=background-color:#fbe9f2>[UNK] </mark><mark style=background-color:#f8f2f5>the </mark><mark style=background-color:#fbe9f2>[UNK] </mark><mark style=background-color:#529624>radio </mark><mark style=background-color:#276419>giant </mark><mark style=background-color:#faebf3>[UNK] </mark><mark style=background-color:#f7f6f7>out </mark><mark style=background-color:#faedf3>a </mark><mark style=background-color:#f8f3f6> </mark><mark style=background-color:#f8f3f6> </mark><mark style=background-color:#f8f3f6> </mark><mark style=background-color:#f8f3f6> </mark><mark style=background-color:#f8f3f6> </mark><mark style=background-color:#f8f3f6> </mark><mark style=background-color:#f8f3f6> </mark><mark style=background-color:#f8f3f6> </mark><mark style=background-color:#f8f3f6> </mark><mark style=background-color:#f8f3f6> </mark><mark style=background-color:#f8f3f6> </mark><mark style=background-color:#f8f3f6> </mark><mark style=background-color:#f8f3f6> </mark><mark style=background-color:#f8f3f6> </mark><mark style=background-color:#f8f3f6> </mark><mark style=background-color:#f8f3f6> </mark><mark style=background-color:#f8f3f6> </mark><mark style=background-color:#f8f3f6> </mark><mark style=background-color:#f8f2f5> </mark><mark style=background-color:#f8f2f5> </mark><mark style=background-color:#f8f2f5> </mark><mark style=background-color:#f8f2f5> </mark><mark style=background-color:#f8f2f5> </mark><mark style=background-color:#f8f2f5> </mark><mark style=background-color:#f8f2f5> </mark><mark style=background-color:#f8f2f5> </mark>"
            ]
          },
          "metadata": {},
          "execution_count": 68
        }
      ]
    },
    {
      "cell_type": "markdown",
      "metadata": {
        "id": "Z4vAOrbD_D-M"
      },
      "source": [
        "Importance of the words are highlighted. Greener the color, the higher positive attribution of that feature towards the prediction. Opposite for pink-colored words. As you can see, features such as 'olympic', 'champions`, 'league' are contributing the most towards predicting the sample as 'Sports'\n",
        "\n"
      ]
    }
  ]
}